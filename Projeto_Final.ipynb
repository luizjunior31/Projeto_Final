{
 "cells": [
  {
   "cell_type": "code",
   "execution_count": 1,
   "metadata": {},
   "outputs": [],
   "source": [
    "import pandas as pd\n",
    "import requests\n",
    "\n",
    "from plyer import notification\n",
    "from datetime import date"
   ]
  },
  {
   "cell_type": "code",
   "execution_count": 2,
   "metadata": {},
   "outputs": [],
   "source": [
    "def alerta(nivel,base, etapa):\n",
    "    if nivel == 200:\n",
    "           nivel = 'API OK'\n",
    "    else:\n",
    "           nivel = 'Erro ao acessar a API'\n",
    "\n",
    "    notification.notify(\n",
    "        title=nivel,\n",
    "        message=f'Falha no Carregamento da {base} no endPoint {etapa} {date.today()}',\n",
    "        app_name='ALERTA',\n",
    "        timeout=10\n",
    "        \n",
    "    )\n",
    "\n",
    "alerta(2,'API','GET')\n"
   ]
  },
  {
   "cell_type": "code",
   "execution_count": 10,
   "metadata": {},
   "outputs": [],
   "source": [
    "cep_dig = int(input(\"Digite um CEP, sem o traço: \"))\n",
    "url = \"https://brasilapi.com.br/api/cep/v2/\" + str(cep_dig)\n",
    "response_01 = requests.get(url)\n",
    "\n",
    "if response_01.status_code == 200:\n",
    "    data_jason_01 = response_01.json()\n",
    "else:\n",
    "    alerta(2,'API','GET')\n",
    "    #print(\"Erroa ao acessar a API\")"
   ]
  },
  {
   "cell_type": "code",
   "execution_count": 15,
   "metadata": {},
   "outputs": [],
   "source": [
    "ddd_dig = int(input(\"Digite um DDD com 2 digitos: \"))\n",
    "url = \"https://brasilapi.com.br/api/ddd/v1/\" + str(ddd_dig)\n",
    "response_02 = requests.get(url)\n",
    "\n",
    "if response_02.status_code == 200:\n",
    "    data_jason_02 = response_02.json()\n",
    "else:\n",
    "    alerta(2,'API','GET')\n",
    "    #print(\"Erroa ao acessar a API\")"
   ]
  },
  {
   "cell_type": "code",
   "execution_count": 18,
   "metadata": {},
   "outputs": [],
   "source": [
    "ano_dig = int(input(\"Digite um ANO, com 4 digitos: \"))\n",
    "url = \"https://brasilapi.com.br/api/feriados/v1/\" + str(ano_dig)\n",
    "response_03 = requests.get(url)\n",
    "\n",
    "if response_03.status_code == 200:\n",
    "    data_jason_03 = response_03.json()\n",
    "else:\n",
    "    alerta(2,'API','GET')\n",
    "    #print(\"Erroa ao acessar a API\")"
   ]
  },
  {
   "cell_type": "code",
   "execution_count": 11,
   "metadata": {},
   "outputs": [
    {
     "data": {
      "text/html": [
       "<div>\n",
       "<style scoped>\n",
       "    .dataframe tbody tr th:only-of-type {\n",
       "        vertical-align: middle;\n",
       "    }\n",
       "\n",
       "    .dataframe tbody tr th {\n",
       "        vertical-align: top;\n",
       "    }\n",
       "\n",
       "    .dataframe thead th {\n",
       "        text-align: right;\n",
       "    }\n",
       "</style>\n",
       "<table border=\"1\" class=\"dataframe\">\n",
       "  <thead>\n",
       "    <tr style=\"text-align: right;\">\n",
       "      <th></th>\n",
       "      <th>cep</th>\n",
       "      <th>state</th>\n",
       "      <th>city</th>\n",
       "      <th>neighborhood</th>\n",
       "      <th>street</th>\n",
       "      <th>service</th>\n",
       "      <th>location</th>\n",
       "    </tr>\n",
       "  </thead>\n",
       "  <tbody>\n",
       "    <tr>\n",
       "      <th>coordinates</th>\n",
       "      <td>04402160</td>\n",
       "      <td>SP</td>\n",
       "      <td>São Paulo</td>\n",
       "      <td>Vila Marari</td>\n",
       "      <td>Rua Raquel</td>\n",
       "      <td>widenet</td>\n",
       "      <td>{}</td>\n",
       "    </tr>\n",
       "    <tr>\n",
       "      <th>type</th>\n",
       "      <td>04402160</td>\n",
       "      <td>SP</td>\n",
       "      <td>São Paulo</td>\n",
       "      <td>Vila Marari</td>\n",
       "      <td>Rua Raquel</td>\n",
       "      <td>widenet</td>\n",
       "      <td>Point</td>\n",
       "    </tr>\n",
       "  </tbody>\n",
       "</table>\n",
       "</div>"
      ],
      "text/plain": [
       "                  cep state       city neighborhood      street  service  \\\n",
       "coordinates  04402160    SP  São Paulo  Vila Marari  Rua Raquel  widenet   \n",
       "type         04402160    SP  São Paulo  Vila Marari  Rua Raquel  widenet   \n",
       "\n",
       "            location  \n",
       "coordinates       {}  \n",
       "type           Point  "
      ]
     },
     "execution_count": 11,
     "metadata": {},
     "output_type": "execute_result"
    }
   ],
   "source": [
    "cep = pd.DataFrame(data_jason_01)\n",
    "cep.head(5)"
   ]
  },
  {
   "cell_type": "code",
   "execution_count": 16,
   "metadata": {},
   "outputs": [
    {
     "data": {
      "text/html": [
       "<div>\n",
       "<style scoped>\n",
       "    .dataframe tbody tr th:only-of-type {\n",
       "        vertical-align: middle;\n",
       "    }\n",
       "\n",
       "    .dataframe tbody tr th {\n",
       "        vertical-align: top;\n",
       "    }\n",
       "\n",
       "    .dataframe thead th {\n",
       "        text-align: right;\n",
       "    }\n",
       "</style>\n",
       "<table border=\"1\" class=\"dataframe\">\n",
       "  <thead>\n",
       "    <tr style=\"text-align: right;\">\n",
       "      <th></th>\n",
       "      <th>state</th>\n",
       "      <th>cities</th>\n",
       "    </tr>\n",
       "  </thead>\n",
       "  <tbody>\n",
       "    <tr>\n",
       "      <th>0</th>\n",
       "      <td>SP</td>\n",
       "      <td>MOGI-MIRIM</td>\n",
       "    </tr>\n",
       "    <tr>\n",
       "      <th>1</th>\n",
       "      <td>SP</td>\n",
       "      <td>MOGI-GUAÇU</td>\n",
       "    </tr>\n",
       "    <tr>\n",
       "      <th>2</th>\n",
       "      <td>SP</td>\n",
       "      <td>ESTIVA GERBI</td>\n",
       "    </tr>\n",
       "    <tr>\n",
       "      <th>3</th>\n",
       "      <td>SP</td>\n",
       "      <td>VINHEDO</td>\n",
       "    </tr>\n",
       "    <tr>\n",
       "      <th>4</th>\n",
       "      <td>SP</td>\n",
       "      <td>VARGEM GRANDE DO SUL</td>\n",
       "    </tr>\n",
       "  </tbody>\n",
       "</table>\n",
       "</div>"
      ],
      "text/plain": [
       "  state                cities\n",
       "0    SP            MOGI-MIRIM\n",
       "1    SP            MOGI-GUAÇU\n",
       "2    SP          ESTIVA GERBI\n",
       "3    SP               VINHEDO\n",
       "4    SP  VARGEM GRANDE DO SUL"
      ]
     },
     "execution_count": 16,
     "metadata": {},
     "output_type": "execute_result"
    }
   ],
   "source": [
    "ddd = pd.DataFrame(data_jason_02)\n",
    "ddd.head(5)"
   ]
  },
  {
   "cell_type": "code",
   "execution_count": 19,
   "metadata": {},
   "outputs": [
    {
     "data": {
      "text/html": [
       "<div>\n",
       "<style scoped>\n",
       "    .dataframe tbody tr th:only-of-type {\n",
       "        vertical-align: middle;\n",
       "    }\n",
       "\n",
       "    .dataframe tbody tr th {\n",
       "        vertical-align: top;\n",
       "    }\n",
       "\n",
       "    .dataframe thead th {\n",
       "        text-align: right;\n",
       "    }\n",
       "</style>\n",
       "<table border=\"1\" class=\"dataframe\">\n",
       "  <thead>\n",
       "    <tr style=\"text-align: right;\">\n",
       "      <th></th>\n",
       "      <th>date</th>\n",
       "      <th>name</th>\n",
       "      <th>type</th>\n",
       "    </tr>\n",
       "  </thead>\n",
       "  <tbody>\n",
       "    <tr>\n",
       "      <th>0</th>\n",
       "      <td>2018-01-01</td>\n",
       "      <td>Confraternização mundial</td>\n",
       "      <td>national</td>\n",
       "    </tr>\n",
       "    <tr>\n",
       "      <th>1</th>\n",
       "      <td>2018-02-13</td>\n",
       "      <td>Carnaval</td>\n",
       "      <td>national</td>\n",
       "    </tr>\n",
       "    <tr>\n",
       "      <th>2</th>\n",
       "      <td>2018-03-30</td>\n",
       "      <td>Sexta-feira Santa</td>\n",
       "      <td>national</td>\n",
       "    </tr>\n",
       "    <tr>\n",
       "      <th>3</th>\n",
       "      <td>2018-04-01</td>\n",
       "      <td>Páscoa</td>\n",
       "      <td>national</td>\n",
       "    </tr>\n",
       "    <tr>\n",
       "      <th>4</th>\n",
       "      <td>2018-04-21</td>\n",
       "      <td>Tiradentes</td>\n",
       "      <td>national</td>\n",
       "    </tr>\n",
       "  </tbody>\n",
       "</table>\n",
       "</div>"
      ],
      "text/plain": [
       "         date                      name      type\n",
       "0  2018-01-01  Confraternização mundial  national\n",
       "1  2018-02-13                  Carnaval  national\n",
       "2  2018-03-30         Sexta-feira Santa  national\n",
       "3  2018-04-01                    Páscoa  national\n",
       "4  2018-04-21                Tiradentes  national"
      ]
     },
     "execution_count": 19,
     "metadata": {},
     "output_type": "execute_result"
    }
   ],
   "source": [
    "feriado = pd.DataFrame(data_jason_03)\n",
    "feriado.head(5)"
   ]
  },
  {
   "cell_type": "code",
   "execution_count": null,
   "metadata": {},
   "outputs": [],
   "source": []
  }
 ],
 "metadata": {
  "kernelspec": {
   "display_name": "Python 3",
   "language": "python",
   "name": "python3"
  },
  "language_info": {
   "codemirror_mode": {
    "name": "ipython",
    "version": 3
   },
   "file_extension": ".py",
   "mimetype": "text/x-python",
   "name": "python",
   "nbconvert_exporter": "python",
   "pygments_lexer": "ipython3",
   "version": "3.11.6"
  },
  "orig_nbformat": 4
 },
 "nbformat": 4,
 "nbformat_minor": 2
}
